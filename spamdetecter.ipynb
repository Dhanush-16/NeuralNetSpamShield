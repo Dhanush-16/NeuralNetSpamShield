{
 "cells": [
  {
   "cell_type": "code",
   "execution_count": 3,
   "id": "a724e942-009e-4a5a-b8a0-215d2d5e3b4a",
   "metadata": {},
   "outputs": [
    {
     "name": "stdout",
     "output_type": "stream",
     "text": [
      "Epoch 1/10\n",
      "175/175 [==============================] - 8s 34ms/step - loss: 0.3041\n",
      "Epoch 2/10\n",
      "175/175 [==============================] - 6s 32ms/step - loss: 0.0637\n",
      "Epoch 3/10\n",
      "175/175 [==============================] - 6s 36ms/step - loss: 0.0233\n",
      "Epoch 4/10\n",
      "175/175 [==============================] - 6s 35ms/step - loss: 0.0096\n",
      "Epoch 5/10\n",
      "175/175 [==============================] - 5s 29ms/step - loss: 0.0052\n",
      "Epoch 6/10\n",
      "175/175 [==============================] - 5s 28ms/step - loss: 0.0032\n",
      "Epoch 7/10\n",
      "175/175 [==============================] - 5s 29ms/step - loss: 0.0025\n",
      "Epoch 8/10\n",
      "175/175 [==============================] - 5s 29ms/step - loss: 0.0013\n",
      "Epoch 9/10\n",
      "175/175 [==============================] - 5s 28ms/step - loss: 9.5539e-04\n",
      "Epoch 10/10\n",
      "175/175 [==============================] - 5s 30ms/step - loss: 8.2004e-04\n",
      "175/175 [==============================] - 1s 5ms/step - loss: 2.0771e-04\n"
     ]
    }
   ],
   "source": [
    "import numpy as np\n",
    "import pandas as pd\n",
    "import tensorflow as tf\n",
    "import sklearn\n",
    "import re\n",
    "from sklearn.feature_extraction.text import TfidfVectorizer\n",
    "from sklearn.preprocessing import LabelEncoder\n",
    "from tensorflow.keras.models import Sequential\n",
    "from tensorflow.keras.layers import Dense,Dropout\n",
    "from sklearn.model_selection import train_test_split\n",
    "import joblib\n",
    "df=pd.read_csv(\"C:\\spam\\spam.csv\")\n",
    "vectorizer=TfidfVectorizer(stop_words='english')\n",
    "x=vectorizer.fit_transform(df['Message']).toarray()\n",
    "joblib.dump(vectorizer,'tfidf_vectorizer.pk1')\n",
    "encoder=LabelEncoder()\n",
    "y=encoder.fit_transform(df['Category'])\n",
    "model=Sequential([\n",
    "    Dense(128,activation='relu',\n",
    "          input_shape=(x.shape[1],)),\n",
    "    Dropout(0.5),\n",
    "    Dense(64,activation='relu'),\n",
    "    Dropout(0.5),\n",
    "    Dense(1,activation='sigmoid')\n",
    "])\n",
    "model.compile(optimizer='adam',loss='binary_crossentropy')\n",
    "model.fit(x,y,epochs=10)\n",
    "loss=model.evaluate(x,y)"
   ]
  },
  {
   "cell_type": "code",
   "execution_count": 4,
   "id": "5f513644-789e-4eda-a788-74bde9860cac",
   "metadata": {},
   "outputs": [],
   "source": [
    "def preduct_spam(mesg):\n",
    "    mesg_tf=vectorizer.transform([mesg]).toarray()\n",
    "    pre=model.predict(mesg_tf)[0][0]\n",
    "    if pre > 0.5:\n",
    "        print(\"The given mail is a spam\")\n",
    "    else:\n",
    "        print(\"The given mail is not a spam\")\n",
    "    return\n",
    "        "
   ]
  },
  {
   "cell_type": "code",
   "execution_count": 5,
   "id": "5fd24154-d694-4ad3-bc7d-6d2c7b4ef306",
   "metadata": {},
   "outputs": [],
   "source": [
    "def pro(mesg):\n",
    "    mesg_tf=vectorizer.transform([mesg]).toarray()\n",
    "    pre=model.predict(mesg_tf)[0][0]\n",
    "    return pre\n",
    "        "
   ]
  },
  {
   "cell_type": "code",
   "execution_count": 6,
   "id": "963179d4-b96e-4bab-bf03-99accf0c21d0",
   "metadata": {},
   "outputs": [
    {
     "name": "stdout",
     "output_type": "stream",
     "text": [
      "1/1 [==============================] - 1s 1s/step\n",
      "[[0.00185166]]\n"
     ]
    }
   ],
   "source": [
    "mesg_tf=\"hiii ihhuu\"\n",
    "mesg_tf=vectorizer.transform([mesg_tf]).toarray()\n",
    "pre=model.predict(mesg_tf)\n",
    "print(pre)"
   ]
  },
  {
   "cell_type": "code",
   "execution_count": 7,
   "id": "1eac4237-fe10-4f52-ace9-439ac723ecb4",
   "metadata": {},
   "outputs": [],
   "source": [
    "def add_test(mesg):\n",
    "    pre = pro(mesg)\n",
    "    category = 'ham' if pre > 0.5 else 'spam'\n",
    "    new_data = pd.DataFrame({'Category': [category],'Message': [mesg]})\n",
    "    new_data.to_csv('C:\\spam\\spam.csv', mode='a', index=False, header=False)\n",
    "    print(f\"Added message: '{mesg}' as {category} to dataset.\")"
   ]
  },
  {
   "cell_type": "code",
   "execution_count": 8,
   "id": "2c175660-3e29-4d9e-b272-61b9a567ea03",
   "metadata": {},
   "outputs": [
    {
     "name": "stdin",
     "output_type": "stream",
     "text": [
      "Enter a message to check:  Our free, hands-on data science courses\n"
     ]
    },
    {
     "name": "stdout",
     "output_type": "stream",
     "text": [
      "1/1 [==============================] - 0s 35ms/step\n",
      "The given mail is a spam\n"
     ]
    },
    {
     "name": "stdin",
     "output_type": "stream",
     "text": [
      "Is the predection  is correct?[Yes/No]: yes\n"
     ]
    },
    {
     "name": "stdout",
     "output_type": "stream",
     "text": [
      "THANK YOU\n"
     ]
    }
   ],
   "source": [
    "message = input(\"Enter a message to check: \")\n",
    "preduct_spam(message)\n",
    "improve=input(\"Is the predection  is correct?[Yes/No]:\")\n",
    "if re.match(r\"^[yY][eE][sS]$\", improve):\n",
    "    print(\"THANK YOU\")\n",
    "elif re.match(r\"^[Nn][oO]$\", improve):\n",
    "    print(\"Okay, let's improve the model.\")\n",
    "    add_test(message)\n",
    "    print(\"THANK YOU\")\n",
    "else:\n",
    "    print(\"Wrong input!\")"
   ]
  },
  {
   "cell_type": "code",
   "execution_count": null,
   "id": "855086d2-67f5-45bb-9685-3db0269d9b6b",
   "metadata": {},
   "outputs": [],
   "source": []
  }
 ],
 "metadata": {
  "kernelspec": {
   "display_name": "Python 3 (ipykernel)",
   "language": "python",
   "name": "python3"
  },
  "language_info": {
   "codemirror_mode": {
    "name": "ipython",
    "version": 3
   },
   "file_extension": ".py",
   "mimetype": "text/x-python",
   "name": "python",
   "nbconvert_exporter": "python",
   "pygments_lexer": "ipython3",
   "version": "3.9.1"
  }
 },
 "nbformat": 4,
 "nbformat_minor": 5
}
