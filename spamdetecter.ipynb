{
 "cells": [
  {
   "cell_type": "code",
   "execution_count": 1,
   "id": "a724e942-009e-4a5a-b8a0-215d2d5e3b4a",
   "metadata": {},
   "outputs": [
    {
     "name": "stdout",
     "output_type": "stream",
     "text": [
      "175/175 [==============================] - 5s 18ms/step - loss: 0.2783\n",
      "175/175 [==============================] - 1s 4ms/step - loss: 0.1030\n"
     ]
    }
   ],
   "source": [
    "import numpy as np\n",
    "import pandas as pd\n",
    "import tensorflow as tf\n",
    "import sklearn\n",
    "import re\n",
    "from sklearn.feature_extraction.text import TfidfVectorizer\n",
    "from sklearn.preprocessing import LabelEncoder\n",
    "from tensorflow.keras.models import Sequential\n",
    "from tensorflow.keras.layers import Dense,Dropout\n",
    "from sklearn.model_selection import train_test_split\n",
    "import joblib\n",
    "df=pd.read_csv(\"C:\\spam\\spam.csv\",encoding='latin-1')\n",
    "vectorizer=TfidfVectorizer(stop_words='english',max_features=5000)\n",
    "x=vectorizer.fit_transform(df['Message']).toarray()\n",
    "joblib.dump(vectorizer,'tfidf_vectorizer.pk1')\n",
    "encoder=LabelEncoder()\n",
    "y=encoder.fit_transform(df['Category'])\n",
    "model=Sequential([\n",
    "    Dense(128,activation='relu',\n",
    "          input_shape=(x.shape[1],)),\n",
    "    Dropout(0.5),\n",
    "    Dense(64,activation='relu'),\n",
    "    Dropout(0.5),\n",
    "    Dense(1,activation='sigmoid')\n",
    "])\n",
    "model.compile(optimizer='adam',loss='binary_crossentropy')\n",
    "model.fit(x,y)\n",
    "loss=model.evaluate(x,y)"
   ]
  },
  {
   "cell_type": "code",
   "execution_count": 2,
   "id": "5f513644-789e-4eda-a788-74bde9860cac",
   "metadata": {},
   "outputs": [],
   "source": [
    "def preduct_spam(mesg):\n",
    "    mesg_tf=vectorizer.transform([mesg]).toarray()\n",
    "    pre=model.predict(mesg_tf)[0][0]\n",
    "    if pre > 0.5:\n",
    "        print(\"The given mail is a spam\")\n",
    "    else:\n",
    "        print(\"The given mail is not a spam\")\n",
    "    return\n",
    "        "
   ]
  },
  {
   "cell_type": "code",
   "execution_count": 3,
   "id": "5fd24154-d694-4ad3-bc7d-6d2c7b4ef306",
   "metadata": {},
   "outputs": [],
   "source": [
    "def pro(mesg):\n",
    "    mesg_tf=vectorizer.transform([mesg]).toarray()\n",
    "    pre=model.predict(mesg_tf)[0][0]\n",
    "    return pre\n",
    "        "
   ]
  },
  {
   "cell_type": "code",
   "execution_count": 4,
   "id": "1eac4237-fe10-4f52-ace9-439ac723ecb4",
   "metadata": {},
   "outputs": [],
   "source": [
    "def add_test(mesg):\n",
    "    pre = pro(mesg)\n",
    "    category = 'ham' if pre > 0.5 else 'spam'\n",
    "    new_data = pd.DataFrame({'Category': [category],'Message': [mesg]})\n",
    "    new_data.to_csv('C:\\spam\\spam.csv', mode='a', index=False, header=False)\n",
    "    print(f\"Added message: '{mesg}' as {category} to dataset.\")"
   ]
  },
  {
   "cell_type": "code",
   "execution_count": 5,
   "id": "a7515a5a-def4-4f5d-a817-1139ddbe2b5f",
   "metadata": {},
   "outputs": [
    {
     "name": "stdin",
     "output_type": "stream",
     "text": [
      "Enter a message to check:  Image simulated. Colours subject to availability. S Pen comes in box with Galaxy S25 Ultra (SM-S938B). T&C apply. Final Price at the sole discretion of the dealer. Offers may be revised or withdrawn without prior notice.Storage upgrade *available only on ultra and plus*Benefits shown above are applicable on purchase of 1 unit of Galaxy S25 Ultra (SM-S938B). ^Get 512GB variant at the price of 256GB variant. Offer available only on Galaxy S25 Ultra (SM-S938B) & Galaxy S25+ (SM-S936B). ~Bank discount provided by issuer/NBFC at its sole discretion. #Upgrade bonus provided by Brand at its sole discretion upon exchange of old smartphones. Exchange and exchange price at the sole discretion of the authorized third party. Bank discount and Upgrade bonus cannot be clubbed and may vary model wise. Samsung Account login may be required to use certain Samsung AI features. *Samsung does not make any promises, assurances or guarantees as to the accuracy, completeness or reliability of the output provided by AI features. * Availability of Galaxy AI features may vary depending on the region/country, OS/One UI version, device model, and phone carrier. *Galaxy AI features will be provided for free until the end of 2025 on supported Samsung Galaxy devices. Different terms may apply for AI features provided by third parties. *Galaxy AI service may be limited for minors in certain regions with age restrictions over AI usage.\n"
     ]
    },
    {
     "name": "stdout",
     "output_type": "stream",
     "text": [
      "1/1 [==============================] - 0s 160ms/step\n",
      "The given mail is not a spam\n"
     ]
    },
    {
     "name": "stdin",
     "output_type": "stream",
     "text": [
      "Is the predection  is correct?[Yes/No]: yes\n"
     ]
    },
    {
     "name": "stdout",
     "output_type": "stream",
     "text": [
      "THANK YOU\n"
     ]
    }
   ],
   "source": [
    "message = input(\"Enter a message to check: \")\n",
    "preduct_spam(message)\n",
    "improve=input(\"Is the predection  is correct?[Yes/No]:\")\n",
    "if re.match(r\"^[yY][eE][sS]$\", improve):\n",
    "    print(\"THANK YOU\")\n",
    "elif re.match(r\"^[Nn][oO]$\", improve):\n",
    "    print(\"Okay, let's improve the model.\")\n",
    "    add_test(message)\n",
    "    print(\"THANK YOU\")\n",
    "else:\n",
    "    print(\"Wrong input!\")"
   ]
  },
  {
   "cell_type": "code",
   "execution_count": null,
   "id": "2c175660-3e29-4d9e-b272-61b9a567ea03",
   "metadata": {},
   "outputs": [],
   "source": []
  }
 ],
 "metadata": {
  "kernelspec": {
   "display_name": "Python 3 (ipykernel)",
   "language": "python",
   "name": "python3"
  },
  "language_info": {
   "codemirror_mode": {
    "name": "ipython",
    "version": 3
   },
   "file_extension": ".py",
   "mimetype": "text/x-python",
   "name": "python",
   "nbconvert_exporter": "python",
   "pygments_lexer": "ipython3",
   "version": "3.9.1"
  }
 },
 "nbformat": 4,
 "nbformat_minor": 5
}
